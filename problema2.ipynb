{
  "nbformat": 4,
  "nbformat_minor": 0,
  "metadata": {
    "colab": {
      "provenance": []
    },
    "kernelspec": {
      "name": "python3",
      "display_name": "Python 3"
    },
    "language_info": {
      "name": "python"
    }
  },
  "cells": [
    {
      "cell_type": "markdown",
      "source": [
        "# GCC118 - Programação Matemática\n",
        "## Universidade Federal de Lavras\n",
        "### Instituto de Ciências Exatas e Tecnológicas\n",
        "#### Profa. Andreza C. Beezão Moreira (DMM/UFLA)\n",
        "#### Prof. Mayron César O. Moreira (DCC/UFLA)\n",
        "#### Aluno: Bruno Crespo Ferreira"
      ],
      "metadata": {
        "id": "9GxPwFVBgqR2"
      }
    },
    {
      "cell_type": "markdown",
      "source": [
        "## Problema\n",
        "\n",
        "Implemente o algoritmo Branch and Bound para resolver o problema da mochila binária. Para resolver os subproblemas, implemente o algoritmo guloso para a mochila fracionária. A escolha dos nós para a expansão da árvore Branch and Bound deve ser feita pelo melhor limitante superior. Como limite inferior, implemente uma heurística gulosa. Em sua resposta, você deve apresentar:\n",
        "\n",
        "* Número de nós explorados;\n",
        "* GAP de otimalidade da solução encontrada;\n",
        "* Tempo computacional gasto."
      ],
      "metadata": {
        "id": "HfDbk1z_yJRS"
      }
    },
    {
      "cell_type": "markdown",
      "source": [
        "## Instância\n",
        "\n",
        "Seu código deve ser testado na seguinte instância: [link](https://drive.google.com/file/d/12CeZEow-6vVgJFgzXMo0gbjV5hLCM6Zi/view?usp=sharing). O README se encontra em: [link](https://drive.google.com/file/d/1LBTdkDoTQRxUJsKLI4Z38-Uc8oUPCZQ0/view?usp=sharing)."
      ],
      "metadata": {
        "id": "jyYbV5Wng03k"
      }
    },
    {
      "cell_type": "markdown",
      "source": [
        "## Modelagem Matemática"
      ],
      "metadata": {
        "id": "FCv5r0kgylNO"
      }
    },
    {
      "cell_type": "markdown",
      "source": [
        "### Parâmetros\n",
        "\n",
        "* $n$: Número de itens;\n",
        "* $w_i$: Peso do item $i, i = \\{1,...,n\\}$;\n",
        "* $v_i$: Valor do item $i, i = \\{1,...,n\\}$;\n",
        "* C: Capacidade da mochila."
      ],
      "metadata": {
        "id": "kgG_NkaH9_Vs"
      }
    },
    {
      "cell_type": "markdown",
      "source": [
        "### Variáveis\n",
        "\n",
        "* $x_i$: Variável binária que indica se o item $i$ foi selecionado $(x_i = 1)$ ou não $(x_i = 0)$."
      ],
      "metadata": {
        "id": "hYUOGZ_3ympo"
      }
    },
    {
      "cell_type": "markdown",
      "source": [
        "### Função Objetivo\n",
        "\n",
        "Consiste em **maximizar** o valor total dos itens na mochila.\n",
        "\\begin{equation}\n",
        "max \\sum_{i=1}^n v_{i} x_{i}\n",
        "\\end{equation}"
      ],
      "metadata": {
        "id": "eSLOOQAoyn0Y"
      }
    },
    {
      "cell_type": "markdown",
      "source": [
        "### Restrições\n",
        "\n",
        "* Restrição 1: Deve-se respeitar a capacidade da mochila.\n",
        "\\begin{equation}\n",
        "\\sum_{i=1}^n w_{i} x_{i} \\le C\n",
        "\\end{equation}\n",
        "\n",
        "* Restrição 2: Cada item pode ser selecionado ou não.\n",
        "\\begin{equation}\n",
        "x_i \\in \\{0,1\\}, \\quad ∀i = \\{1,...,n\\}\n",
        "\\end{equation}"
      ],
      "metadata": {
        "id": "xDJ9RGkyypNT"
      }
    },
    {
      "cell_type": "markdown",
      "source": [
        "### Modelo\n",
        "\n",
        "\\begin{equation}\n",
        "max \\sum_{i=1}^n v_{i} x_{i}\n",
        "\\end{equation}\n",
        "\n",
        "sujeito a:\n",
        "\n",
        "\\begin{alignat}{2}\n",
        "\\sum_{i=1}^n w_{i} x_{i} \\le C \\\\\n",
        "x_i \\in \\{0,1\\}, \\quad ∀i = \\{1,...,n\\}\n",
        "\\end{alignat}"
      ],
      "metadata": {
        "id": "5Q0VTQQ-yqo2"
      }
    },
    {
      "cell_type": "markdown",
      "source": [
        "## Resolução do Problema"
      ],
      "metadata": {
        "id": "DVmr44ghC1SP"
      }
    },
    {
      "cell_type": "markdown",
      "source": [
        "### Importando bibliotecas"
      ],
      "metadata": {
        "id": "NzqLbMfiyuFI"
      }
    },
    {
      "cell_type": "code",
      "source": [
        "import time\n",
        "import numpy as np"
      ],
      "metadata": {
        "id": "7xx4CV57yu94"
      },
      "execution_count": 57,
      "outputs": []
    },
    {
      "cell_type": "markdown",
      "source": [
        "### Função para leitura do arquivo"
      ],
      "metadata": {
        "id": "NqsgtLFDAO5x"
      }
    },
    {
      "cell_type": "code",
      "source": [
        "def load_instance(filename):\n",
        "  with open(filename, 'r') as f:\n",
        "    lines = f.readlines()\n",
        "\n",
        "  instance_name = lines[0].strip()\n",
        "  instance_class = lines[1].strip()\n",
        "  capacity = int(lines[2].strip())\n",
        "  items = []\n",
        "\n",
        "  for idx, line in enumerate(lines[3:]):\n",
        "    weight, value = map(int, line.strip().split())\n",
        "    items.append((idx, weight, value))\n",
        "\n",
        "  return instance_name, instance_class, capacity, items"
      ],
      "metadata": {
        "id": "elQrJDvkATZw"
      },
      "execution_count": 58,
      "outputs": []
    },
    {
      "cell_type": "markdown",
      "source": [
        "### Heurística gulosa para o limite inferior e Algoritmo guloso para a mochila fracionária"
      ],
      "metadata": {
        "id": "x_Ao8lPjAd1E"
      }
    },
    {
      "cell_type": "code",
      "source": [
        "def fractional_knapsack(capacity, items):\n",
        "  items = sorted(items, key=lambda x: x[2]/x[1], reverse=True)\n",
        "  total_value = 0\n",
        "  remaining_capacity = capacity\n",
        "\n",
        "  for _, weight, value in items:\n",
        "    if weight <= remaining_capacity:\n",
        "      total_value += value\n",
        "      remaining_capacity -= weight\n",
        "    else:\n",
        "      total_value += value * (remaining_capacity / weight)\n",
        "      break\n",
        "\n",
        "  return total_value"
      ],
      "metadata": {
        "id": "Su6w81wsAnOV"
      },
      "execution_count": 59,
      "outputs": []
    },
    {
      "cell_type": "markdown",
      "source": [
        "### Classe para o nó do Branch and Bound"
      ],
      "metadata": {
        "id": "3FCQC9JwBDGA"
      }
    },
    {
      "cell_type": "code",
      "source": [
        "class Node:\n",
        "  def __init__(self, level, profit, weight, taken):\n",
        "    self.level = level\n",
        "    self.profit = profit\n",
        "    self.weight = weight\n",
        "    self.taken = taken"
      ],
      "metadata": {
        "id": "oVJcDkuQBG3G"
      },
      "execution_count": 60,
      "outputs": []
    },
    {
      "cell_type": "markdown",
      "source": [
        "### Cálculo do melhor limite superior para escolher o próximo nó"
      ],
      "metadata": {
        "id": "hhuNkw_KBP69"
      }
    },
    {
      "cell_type": "code",
      "source": [
        "def calculate_bound(node, capacity, items):\n",
        "  if node.weight > capacity:\n",
        "    return 0\n",
        "\n",
        "  remaining_capacity = capacity - node.weight\n",
        "  total_value = node.profit\n",
        "\n",
        "  for i in range(node.level + 1, len(items)):\n",
        "    _, weight, value = items[i]\n",
        "    if weight <= remaining_capacity:\n",
        "      total_value += value\n",
        "      remaining_capacity -= weight\n",
        "    else:\n",
        "      total_value += value * (remaining_capacity / weight)\n",
        "      break\n",
        "\n",
        "  return total_value"
      ],
      "metadata": {
        "id": "VyPZQUFyBd0I"
      },
      "execution_count": 61,
      "outputs": []
    },
    {
      "cell_type": "markdown",
      "source": [
        "### Algoritmo Branch and Bound"
      ],
      "metadata": {
        "id": "sH_noAjrBl4R"
      }
    },
    {
      "cell_type": "code",
      "source": [
        "def branch_and_bound_knapsack(capacity, items):\n",
        "  start_time = time.time()\n",
        "  items = sorted(items, key=lambda x: x[2]/x[1], reverse=True)\n",
        "\n",
        "  # Inicialização\n",
        "  best_solution = 0\n",
        "  best_taken = []\n",
        "  root = Node(level=-1, profit=0, weight=0, taken=[])\n",
        "  queue = [root]\n",
        "  explored_nodes = 0\n",
        "\n",
        "  # Processando os nós\n",
        "  while queue:\n",
        "    node = max(queue, key=lambda x: calculate_bound(x, capacity, items))\n",
        "    queue.remove(node)\n",
        "    explored_nodes += 1\n",
        "\n",
        "    if node.level == len(items) - 1:\n",
        "      continue\n",
        "\n",
        "    # Expansão do nó\n",
        "    next_level = node.level + 1\n",
        "    _, weight, value = items[next_level]\n",
        "\n",
        "    # Caso 1: Incluir o item\n",
        "    if node.weight + weight <= capacity:\n",
        "      taken = node.taken[:]\n",
        "      taken.append(items[next_level][0])\n",
        "      profit = node.profit + value\n",
        "      new_node = Node(level=next_level, profit=profit, weight=node.weight + weight, taken=taken)\n",
        "\n",
        "      if profit > best_solution:\n",
        "        best_solution = profit\n",
        "        best_taken = taken[:]\n",
        "\n",
        "      if calculate_bound(new_node, capacity, items) > best_solution:\n",
        "        queue.append(new_node)\n",
        "\n",
        "    # Caso 2: Não incluir o item\n",
        "    taken = node.taken[:]\n",
        "    new_node = Node(level=next_level, profit=node.profit, weight=node.weight, taken=taken)\n",
        "\n",
        "    if calculate_bound(new_node, capacity, items) > best_solution:\n",
        "        queue.append(new_node)\n",
        "\n",
        "  end_time = time.time()\n",
        "\n",
        "  # Calcula-se o GAP de otimalidade\n",
        "  fractional_solution = fractional_knapsack(capacity, items)\n",
        "  gap = 100 * (fractional_solution - best_solution) / fractional_solution\n",
        "\n",
        "  return best_solution, best_taken, explored_nodes, gap, end_time - start_time"
      ],
      "metadata": {
        "id": "eHe6a-DrBoUa"
      },
      "execution_count": 62,
      "outputs": []
    },
    {
      "cell_type": "markdown",
      "source": [
        "### Imprimindo as soluções do problema"
      ],
      "metadata": {
        "id": "AdFNK6HKy2fc"
      }
    },
    {
      "cell_type": "code",
      "source": [
        "def main():\n",
        "  filename = \"Weakly001\"\n",
        "  instance_name, instance_class, capacity, items = load_instance(filename)\n",
        "\n",
        "  best_value, best_taken, explored_nodes, gap, runtime = branch_and_bound_knapsack(capacity, items)\n",
        "\n",
        "  total_weight = sum(items[item_id][1] for item_id in best_taken)\n",
        "  remaining_capacity = capacity - total_weight\n",
        "\n",
        "  print(f\"Instância: {instance_name}\")\n",
        "  print(f\"Classe: {instance_class}\")\n",
        "  print(f\"Capacidade da mochila: {capacity}\")\n",
        "  print(f\"Peso total selecionado: {total_weight}\")\n",
        "  print(f\"Capacidade restante: {remaining_capacity}\")\n",
        "  print(f\"Melhor valor encontrado: {best_value}\")\n",
        "  print(f\"Itens selecionados: {best_taken}\")\n",
        "  print(f\"Nós explorados: {explored_nodes}\")\n",
        "  print(f\"GAP de otimalidade: {gap:.2f}%\")\n",
        "  print(f\"Tempo de execução: {runtime:.4f} segundos\")\n",
        "\n",
        "main()"
      ],
      "metadata": {
        "colab": {
          "base_uri": "https://localhost:8080/"
        },
        "id": "Mhvsy5D2y2sM",
        "outputId": "bd68e617-478c-4df1-af28-1544989f59ec"
      },
      "execution_count": 63,
      "outputs": [
        {
          "output_type": "stream",
          "name": "stdout",
          "text": [
            "Instância: Weakly001\n",
            "Classe: WeaklyCorrelated\n",
            "Capacidade da mochila: 2453\n",
            "Peso total selecionado: 2452\n",
            "Capacidade restante: 1\n",
            "Melhor valor encontrado: 4886\n",
            "Itens selecionados: [293, 744, 0, 331, 369, 922, 590, 967, 328, 472, 988, 504, 102, 9, 12, 316, 792, 78, 295, 395, 110, 936, 618, 3, 989, 13, 631, 139, 930, 686, 557, 788, 978, 181, 993, 837, 841, 555, 886, 30, 218, 901, 689, 674, 470, 954, 496, 511, 573, 699, 751]\n",
            "Nós explorados: 1050\n",
            "GAP de otimalidade: 0.03%\n",
            "Tempo de execução: 0.2506 segundos\n"
          ]
        }
      ]
    }
  ]
}